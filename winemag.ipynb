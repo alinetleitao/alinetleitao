{
  "nbformat": 4,
  "nbformat_minor": 0,
  "metadata": {
    "colab": {
      "name": "winemag.ipynb",
      "provenance": [],
      "collapsed_sections": [],
      "authorship_tag": "ABX9TyOwRDDTBv3WfLDGw4jhfZLk",
      "include_colab_link": true
    },
    "kernelspec": {
      "name": "python3",
      "display_name": "Python 3"
    },
    "language_info": {
      "name": "python"
    }
  },
  "cells": [
    {
      "cell_type": "markdown",
      "metadata": {
        "id": "view-in-github",
        "colab_type": "text"
      },
      "source": [
        "<a href=\"https://colab.research.google.com/github/alinetleitao/alinetleitao/blob/main/winemag.ipynb\" target=\"_parent\"><img src=\"https://colab.research.google.com/assets/colab-badge.svg\" alt=\"Open In Colab\"/></a>"
      ]
    },
    {
      "cell_type": "code",
      "metadata": {
        "colab": {
          "base_uri": "https://localhost:8080/"
        },
        "id": "3z8KoJ_voII8",
        "outputId": "73bd0853-3a94-41dd-c621-ad15b0a03358"
      },
      "source": [
        "from google.colab import drive\n",
        "drive.mount('/content/drive')"
      ],
      "execution_count": null,
      "outputs": [
        {
          "output_type": "stream",
          "text": [
            "Mounted at /content/drive\n"
          ],
          "name": "stdout"
        }
      ]
    },
    {
      "cell_type": "markdown",
      "metadata": {
        "id": "uAwda3qiO8Eo"
      },
      "source": [
        "# **DataSet Winemag**"
      ]
    },
    {
      "cell_type": "code",
      "metadata": {
        "id": "JXeGJnF6oTmE"
      },
      "source": [
        "# Principais Libs\n",
        "import pandas as pd\n",
        "from pyspark.sql import SparkSession\n",
        "import pyspark.sql.functions as F\n",
        "import pyspark.sql.types as T\n",
        "import matplotlib.pyplot as plt  \n",
        "import seaborn as sns\n",
        "import numpy as np\n",
        "from io import StringIO\n",
        "import requests"
      ],
      "execution_count": 1,
      "outputs": []
    },
    {
      "cell_type": "code",
      "metadata": {
        "id": "SI6Qj-Va9mng"
      },
      "source": [
        "spark = SparkSession.builder.getOrCreate()"
      ],
      "execution_count": 2,
      "outputs": []
    },
    {
      "cell_type": "code",
      "metadata": {
        "colab": {
          "base_uri": "https://localhost:8080/",
          "height": 216
        },
        "id": "ML1fMt-pTfH7",
        "outputId": "7c99b417-d7fc-46d1-ea83-ec182ecd879a"
      },
      "source": [
        "spark"
      ],
      "execution_count": 3,
      "outputs": [
        {
          "output_type": "execute_result",
          "data": {
            "text/html": [
              "\n",
              "            <div>\n",
              "                <p><b>SparkSession - in-memory</b></p>\n",
              "                \n",
              "        <div>\n",
              "            <p><b>SparkContext</b></p>\n",
              "\n",
              "            <p><a href=\"http://dff7804795f5:4040\">Spark UI</a></p>\n",
              "\n",
              "            <dl>\n",
              "              <dt>Version</dt>\n",
              "                <dd><code>v3.1.2</code></dd>\n",
              "              <dt>Master</dt>\n",
              "                <dd><code>local[*]</code></dd>\n",
              "              <dt>AppName</dt>\n",
              "                <dd><code>pyspark-shell</code></dd>\n",
              "            </dl>\n",
              "        </div>\n",
              "        \n",
              "            </div>\n",
              "        "
            ],
            "text/plain": [
              "<pyspark.sql.session.SparkSession at 0x7f26042f6510>"
            ]
          },
          "metadata": {
            "tags": []
          },
          "execution_count": 3
        }
      ]
    },
    {
      "cell_type": "code",
      "metadata": {
        "id": "Gx7BixFpqPm9"
      },
      "source": [
        "# Lendo arquivo csv\n",
        "df = spark.read.csv('/content/sample_data/winemag-data-130k-v2.csv', inferSchema=True, header=True,)"
      ],
      "execution_count": 4,
      "outputs": []
    },
    {
      "cell_type": "code",
      "metadata": {
        "colab": {
          "base_uri": "https://localhost:8080/"
        },
        "id": "MsoSpIdUpSAR",
        "outputId": "b4ce6b49-3c19-4e90-cf12-08bc26c62da6"
      },
      "source": [
        "df.columns"
      ],
      "execution_count": 5,
      "outputs": [
        {
          "output_type": "execute_result",
          "data": {
            "text/plain": [
              "['_c0',\n",
              " 'country',\n",
              " 'description',\n",
              " 'designation',\n",
              " 'points',\n",
              " 'price',\n",
              " 'province',\n",
              " 'region_1',\n",
              " 'region_2',\n",
              " 'taster_name',\n",
              " 'taster_twitter_handle',\n",
              " 'title',\n",
              " 'variety',\n",
              " 'winery']"
            ]
          },
          "metadata": {
            "tags": []
          },
          "execution_count": 5
        }
      ]
    },
    {
      "cell_type": "code",
      "metadata": {
        "colab": {
          "base_uri": "https://localhost:8080/"
        },
        "id": "v1CkAQmUkckg",
        "outputId": "f86f5c1c-521b-491c-882b-8f9e4d0db422"
      },
      "source": [
        "F.col(\"country\")"
      ],
      "execution_count": 6,
      "outputs": [
        {
          "output_type": "execute_result",
          "data": {
            "text/plain": [
              "Column<'country'>"
            ]
          },
          "metadata": {
            "tags": []
          },
          "execution_count": 6
        }
      ]
    },
    {
      "cell_type": "code",
      "metadata": {
        "colab": {
          "base_uri": "https://localhost:8080/"
        },
        "id": "bf1gsGkRkfRL",
        "outputId": "e5bf1052-6d85-429b-e83d-9f9166f7a6c7"
      },
      "source": [
        "F.expr(\"country\")"
      ],
      "execution_count": 7,
      "outputs": [
        {
          "output_type": "execute_result",
          "data": {
            "text/plain": [
              "Column<'country'>"
            ]
          },
          "metadata": {
            "tags": []
          },
          "execution_count": 7
        }
      ]
    },
    {
      "cell_type": "code",
      "metadata": {
        "colab": {
          "base_uri": "https://localhost:8080/"
        },
        "id": "scix84LehtjQ",
        "outputId": "0849c2e8-e422-4290-d4c3-b5c7999ce844"
      },
      "source": [
        "# Selecionando a estrutura do dataset\n",
        "df.select(\"_c0\", \"country\", \"description\", \"designation\", \"points\", \"price\", \"taster_name\", \"taster_twitter_handle\", \"title\", \"variety\", \"winery\",\n",
        "\"region_1\").withColumnRenamed(\n",
        "    \"region_1\", \"region\"\n",
        "    ).show(10)"
      ],
      "execution_count": 8,
      "outputs": [
        {
          "output_type": "stream",
          "text": [
            "+---+--------+--------------------+--------------------+------+-----+------------------+---------------------+--------------------+------------------+-------------------+-------------------+\n",
            "|_c0| country|         description|         designation|points|price|       taster_name|taster_twitter_handle|               title|           variety|             winery|             region|\n",
            "+---+--------+--------------------+--------------------+------+-----+------------------+---------------------+--------------------+------------------+-------------------+-------------------+\n",
            "|  0|   Italy|Aromas include tr...|        Vulkà Bianco|    87| null|     Kerin O’Keefe|         @kerinokeefe|Nicosia 2013 Vulk...|       White Blend|            Nicosia|               Etna|\n",
            "|  1|Portugal|This is ripe and ...|            Avidagos|    87| 15.0|        Roger Voss|           @vossroger|Quinta dos Avidag...|    Portuguese Red|Quinta dos Avidagos|               null|\n",
            "|  2|      US|Tart and snappy, ...|                null|    87| 14.0|      Paul Gregutt|          @paulgwine |Rainstorm 2013 Pi...|        Pinot Gris|          Rainstorm|  Willamette Valley|\n",
            "|  3|      US|Pineapple rind, l...|Reserve Late Harvest|    87| 13.0|Alexander Peartree|                 null|St. Julian 2013 R...|          Riesling|         St. Julian|Lake Michigan Shore|\n",
            "|  4|      US|Much like the reg...|Vintner's Reserve...|    87| 65.0|      Paul Gregutt|          @paulgwine |Sweet Cheeks 2012...|        Pinot Noir|       Sweet Cheeks|  Willamette Valley|\n",
            "|  5|   Spain|Blackberry and ra...|        Ars In Vitro|    87| 15.0| Michael Schachner|          @wineschach|Tandem 2011 Ars I...|Tempranillo-Merlot|             Tandem|            Navarra|\n",
            "|  6|   Italy|Here's a bright, ...|             Belsito|    87| 16.0|     Kerin O’Keefe|         @kerinokeefe|Terre di Giurfo 2...|          Frappato|    Terre di Giurfo|           Vittoria|\n",
            "|  7|  France|This dry and rest...|                null|    87| 24.0|        Roger Voss|           @vossroger|Trimbach 2012 Gew...|    Gewürztraminer|           Trimbach|             Alsace|\n",
            "|  8| Germany|Savory dried thym...|               Shine|    87| 12.0|Anna Lee C. Iijima|                 null|Heinz Eifel 2013 ...|    Gewürztraminer|        Heinz Eifel|               null|\n",
            "|  9|  France|This has great de...|         Les Natures|    87| 27.0|        Roger Voss|           @vossroger|Jean-Baptiste Ada...|        Pinot Gris| Jean-Baptiste Adam|             Alsace|\n",
            "+---+--------+--------------------+--------------------+------+-----+------------------+---------------------+--------------------+------------------+-------------------+-------------------+\n",
            "only showing top 10 rows\n",
            "\n"
          ],
          "name": "stdout"
        }
      ]
    },
    {
      "cell_type": "code",
      "metadata": {
        "id": "4laoC73yGhVf",
        "colab": {
          "base_uri": "https://localhost:8080/"
        },
        "outputId": "63eabf37-6a4c-4bf6-8d4e-5f60014e7dfb"
      },
      "source": [
        "df.head(5)"
      ],
      "execution_count": 9,
      "outputs": [
        {
          "output_type": "execute_result",
          "data": {
            "text/plain": [
              "[Row(_c0=0, country='Italy', description=\"Aromas include tropical fruit, broom, brimstone and dried herb. The palate isn't overly expressive, offering unripened apple, citrus and dried sage alongside brisk acidity.\", designation='Vulkà Bianco', points=87, price=None, province='Sicily & Sardinia', region_1='Etna', region_2=None, taster_name='Kerin O’Keefe', taster_twitter_handle='@kerinokeefe', title='Nicosia 2013 Vulkà Bianco  (Etna)', variety='White Blend', winery='Nicosia'),\n",
              " Row(_c0=1, country='Portugal', description=\"This is ripe and fruity, a wine that is smooth while still structured. Firm tannins are filled out with juicy red berry fruits and freshened with acidity. It's  already drinkable, although it will certainly be better from 2016.\", designation='Avidagos', points=87, price=15.0, province='Douro', region_1=None, region_2=None, taster_name='Roger Voss', taster_twitter_handle='@vossroger', title='Quinta dos Avidagos 2011 Avidagos Red (Douro)', variety='Portuguese Red', winery='Quinta dos Avidagos'),\n",
              " Row(_c0=2, country='US', description='Tart and snappy, the flavors of lime flesh and rind dominate. Some green pineapple pokes through, with crisp acidity underscoring the flavors. The wine was all stainless-steel fermented.', designation=None, points=87, price=14.0, province='Oregon', region_1='Willamette Valley', region_2='Willamette Valley', taster_name='Paul Gregutt', taster_twitter_handle='@paulgwine\\xa0', title='Rainstorm 2013 Pinot Gris (Willamette Valley)', variety='Pinot Gris', winery='Rainstorm'),\n",
              " Row(_c0=3, country='US', description='Pineapple rind, lemon pith and orange blossom start off the aromas. The palate is a bit more opulent, with notes of honey-drizzled guava and mango giving way to a slightly astringent, semidry finish.', designation='Reserve Late Harvest', points=87, price=13.0, province='Michigan', region_1='Lake Michigan Shore', region_2=None, taster_name='Alexander Peartree', taster_twitter_handle=None, title='St. Julian 2013 Reserve Late Harvest Riesling (Lake Michigan Shore)', variety='Riesling', winery='St. Julian'),\n",
              " Row(_c0=4, country='US', description=\"Much like the regular bottling from 2012, this comes across as rather rough and tannic, with rustic, earthy, herbal characteristics. Nonetheless, if you think of it as a pleasantly unfussy country wine, it's a good companion to a hearty winter stew.\", designation=\"Vintner's Reserve Wild Child Block\", points=87, price=65.0, province='Oregon', region_1='Willamette Valley', region_2='Willamette Valley', taster_name='Paul Gregutt', taster_twitter_handle='@paulgwine\\xa0', title=\"Sweet Cheeks 2012 Vintner's Reserve Wild Child Block Pinot Noir (Willamette Valley)\", variety='Pinot Noir', winery='Sweet Cheeks')]"
            ]
          },
          "metadata": {
            "tags": []
          },
          "execution_count": 9
        }
      ]
    },
    {
      "cell_type": "code",
      "metadata": {
        "id": "2v5Z_V10HOXh",
        "colab": {
          "base_uri": "https://localhost:8080/"
        },
        "outputId": "9d4d32c4-af26-4839-8238-c98b24b4255a"
      },
      "source": [
        "print(df)"
      ],
      "execution_count": 73,
      "outputs": [
        {
          "output_type": "stream",
          "text": [
            "DataFrame[_c0: int, country: string, description: string, designation: string, points: int, price: double, province: string, region_1: string, region_2: string, taster_name: string, taster_twitter_handle: string, title: string, variety: string, winery: string]\n"
          ],
          "name": "stdout"
        }
      ]
    },
    {
      "cell_type": "code",
      "metadata": {
        "id": "wORoLoUoZHXE"
      },
      "source": [
        "# Classificação das Variáveis:\n",
        "# \"_c0\" : Numérica Discreta;\n",
        "# \"country\" : Categórica Ordinal;\n",
        "# \"description\" : Categórica Nominal;\n",
        "# \"designation\" : Categórica Ordinal;\n",
        "# \"points\" : Numérica Discreta;\n",
        "# \"price\" : Numérica Contínua;\n",
        "# \"taster_name\" : Categórica Nominal;\n",
        "# \"taster_twitter_handle\" : Categórica Nominal;\n",
        "# \"title\" : Categórica Nominal;\n",
        "# \"variety\" : Categórica Ordinal;\n",
        "# \"winery\" : Categórica Ordinal;\n",
        "# \"region\"  : Categórica Ordinal."
      ],
      "execution_count": 72,
      "outputs": []
    },
    {
      "cell_type": "code",
      "metadata": {
        "id": "aV9F33M8Gt_q"
      },
      "source": [
        "# df.to_parquet(\"/content/sample_data/winemag-data-130k-v2.parquet\")"
      ],
      "execution_count": 11,
      "outputs": []
    },
    {
      "cell_type": "code",
      "metadata": {
        "colab": {
          "base_uri": "https://localhost:8080/",
          "height": 142
        },
        "id": "dtk8n17zIAAg",
        "outputId": "1f7598cb-a701-4b4b-b4a1-f07cef90ee61"
      },
      "source": [
        "df_wine = pd.read_csv('/content/sample_data/winemag-data-130k-v2.csv')\n",
        "df_wine.describe().T"
      ],
      "execution_count": 12,
      "outputs": [
        {
          "output_type": "execute_result",
          "data": {
            "text/html": [
              "<div>\n",
              "<style scoped>\n",
              "    .dataframe tbody tr th:only-of-type {\n",
              "        vertical-align: middle;\n",
              "    }\n",
              "\n",
              "    .dataframe tbody tr th {\n",
              "        vertical-align: top;\n",
              "    }\n",
              "\n",
              "    .dataframe thead th {\n",
              "        text-align: right;\n",
              "    }\n",
              "</style>\n",
              "<table border=\"1\" class=\"dataframe\">\n",
              "  <thead>\n",
              "    <tr style=\"text-align: right;\">\n",
              "      <th></th>\n",
              "      <th>count</th>\n",
              "      <th>mean</th>\n",
              "      <th>std</th>\n",
              "      <th>min</th>\n",
              "      <th>25%</th>\n",
              "      <th>50%</th>\n",
              "      <th>75%</th>\n",
              "      <th>max</th>\n",
              "    </tr>\n",
              "  </thead>\n",
              "  <tbody>\n",
              "    <tr>\n",
              "      <th>Unnamed: 0</th>\n",
              "      <td>2606.0</td>\n",
              "      <td>1302.500000</td>\n",
              "      <td>752.431724</td>\n",
              "      <td>0.0</td>\n",
              "      <td>651.25</td>\n",
              "      <td>1302.5</td>\n",
              "      <td>1953.75</td>\n",
              "      <td>2605.0</td>\n",
              "    </tr>\n",
              "    <tr>\n",
              "      <th>points</th>\n",
              "      <td>2606.0</td>\n",
              "      <td>88.371450</td>\n",
              "      <td>2.966119</td>\n",
              "      <td>80.0</td>\n",
              "      <td>86.00</td>\n",
              "      <td>88.0</td>\n",
              "      <td>90.00</td>\n",
              "      <td>100.0</td>\n",
              "    </tr>\n",
              "    <tr>\n",
              "      <th>price</th>\n",
              "      <td>2441.0</td>\n",
              "      <td>37.782057</td>\n",
              "      <td>68.254802</td>\n",
              "      <td>4.0</td>\n",
              "      <td>16.00</td>\n",
              "      <td>25.0</td>\n",
              "      <td>42.00</td>\n",
              "      <td>1900.0</td>\n",
              "    </tr>\n",
              "  </tbody>\n",
              "</table>\n",
              "</div>"
            ],
            "text/plain": [
              "             count         mean         std  ...     50%      75%     max\n",
              "Unnamed: 0  2606.0  1302.500000  752.431724  ...  1302.5  1953.75  2605.0\n",
              "points      2606.0    88.371450    2.966119  ...    88.0    90.00   100.0\n",
              "price       2441.0    37.782057   68.254802  ...    25.0    42.00  1900.0\n",
              "\n",
              "[3 rows x 8 columns]"
            ]
          },
          "metadata": {
            "tags": []
          },
          "execution_count": 12
        }
      ]
    },
    {
      "cell_type": "code",
      "metadata": {
        "colab": {
          "base_uri": "https://localhost:8080/",
          "height": 339
        },
        "id": "J_nq9XS6KdrQ",
        "outputId": "c668acb4-c6e5-4ab7-b514-f2ea7a26c0b5"
      },
      "source": [
        "sns.set(style=\"white\", color_codes=True)\n",
        "%matplotlib inline\n",
        "\n",
        "df_wine.plot(kind=\"scatter\", x=\"points\", y=\"price\")"
      ],
      "execution_count": 13,
      "outputs": [
        {
          "output_type": "stream",
          "text": [
            "*c* argument looks like a single numeric RGB or RGBA sequence, which should be avoided as value-mapping will have precedence in case its length matches with *x* & *y*.  Please use the *color* keyword-argument or provide a 2-D array with a single row if you intend to specify the same RGB or RGBA value for all points.\n"
          ],
          "name": "stderr"
        },
        {
          "output_type": "execute_result",
          "data": {
            "text/plain": [
              "<matplotlib.axes._subplots.AxesSubplot at 0x7f260405be50>"
            ]
          },
          "metadata": {
            "tags": []
          },
          "execution_count": 13
        },
        {
          "output_type": "display_data",
          "data": {
            "image/png": "[encoded data removed]",
            "text/plain": [
              "<Figure size 432x288 with 1 Axes>"
            ]
          },
          "metadata": {
            "tags": [],
            "needs_background": "light"
          }
        }
      ]
    },
    {
      "cell_type": "code",
      "metadata": {
        "colab": {
          "base_uri": "https://localhost:8080/"
        },
        "id": "3f_AekmxKu0h",
        "outputId": "85fecc51-01be-4226-c65d-3791ee54c6f4"
      },
      "source": [
        "value_counts = df_wine[\"variety\"].value_counts()\n",
        "value_counts.head()"
      ],
      "execution_count": 14,
      "outputs": [
        {
          "output_type": "execute_result",
          "data": {
            "text/plain": [
              "Pinot Noir                  221\n",
              "Chardonnay                  216\n",
              "Cabernet Sauvignon          196\n",
              "Red Blend                   183\n",
              "Bordeaux-style Red Blend    172\n",
              "Name: variety, dtype: int64"
            ]
          },
          "metadata": {
            "tags": []
          },
          "execution_count": 14
        }
      ]
    },
    {
      "cell_type": "code",
      "metadata": {
        "id": "GeD1B2QKKyuX",
        "colab": {
          "base_uri": "https://localhost:8080/",
          "height": 540
        },
        "outputId": "02ce7bb4-db48-4a6b-cd76-95bfd78286d5"
      },
      "source": [
        "color = sns.color_palette()\n",
        "%matplotlib inline\n",
        "\n",
        "pd.options.mode.chained_assignment = None\n",
        "pd.options.display.max_columns = 999\n",
        "\n",
        "plt.figure(figsize=(20,7))\n",
        "sns.countplot(x=\"country\", data=df_wine)\n",
        "plt.ylabel(\"Country\",fontsize = 12)\n",
        "plt.xlabel(\"Review Count\", fontsize=12)\n",
        "plt.xticks(rotation=90)\n",
        "plt.title(\"Count of Reviews by country\", fontsize=15)\n",
        "plt.show()"
      ],
      "execution_count": 16,
      "outputs": [
        {
          "output_type": "display_data",
          "data": {
            "image/png": "[encoded data removed]",
            "text/plain": [
              "<Figure size 1440x504 with 1 Axes>"
            ]
          },
          "metadata": {
            "tags": [],
            "needs_background": "light"
          }
        }
      ]
    },
    {
      "cell_type": "code",
      "metadata": {
        "colab": {
          "base_uri": "https://localhost:8080/",
          "height": 80
        },
        "id": "WbgZO0AiK06F",
        "outputId": "c490c4bd-d00f-4366-ace3-0ea96a231b91"
      },
      "source": [
        "ReviewCountbyCountry = pd.DataFrame(df_wine[\"country\"].value_counts())\n",
        "ReviewCountbyCountry.describe().T"
      ],
      "execution_count": 17,
      "outputs": [
        {
          "output_type": "execute_result",
          "data": {
            "text/html": [
              "<div>\n",
              "<style scoped>\n",
              "    .dataframe tbody tr th:only-of-type {\n",
              "        vertical-align: middle;\n",
              "    }\n",
              "\n",
              "    .dataframe tbody tr th {\n",
              "        vertical-align: top;\n",
              "    }\n",
              "\n",
              "    .dataframe thead th {\n",
              "        text-align: right;\n",
              "    }\n",
              "</style>\n",
              "<table border=\"1\" class=\"dataframe\">\n",
              "  <thead>\n",
              "    <tr style=\"text-align: right;\">\n",
              "      <th></th>\n",
              "      <th>count</th>\n",
              "      <th>mean</th>\n",
              "      <th>std</th>\n",
              "      <th>min</th>\n",
              "      <th>25%</th>\n",
              "      <th>50%</th>\n",
              "      <th>75%</th>\n",
              "      <th>max</th>\n",
              "    </tr>\n",
              "  </thead>\n",
              "  <tbody>\n",
              "    <tr>\n",
              "      <th>country</th>\n",
              "      <td>21.0</td>\n",
              "      <td>124.047619</td>\n",
              "      <td>245.75526</td>\n",
              "      <td>1.0</td>\n",
              "      <td>4.0</td>\n",
              "      <td>28.0</td>\n",
              "      <td>99.0</td>\n",
              "      <td>1033.0</td>\n",
              "    </tr>\n",
              "  </tbody>\n",
              "</table>\n",
              "</div>"
            ],
            "text/plain": [
              "         count        mean        std  min  25%   50%   75%     max\n",
              "country   21.0  124.047619  245.75526  1.0  4.0  28.0  99.0  1033.0"
            ]
          },
          "metadata": {
            "tags": []
          },
          "execution_count": 17
        }
      ]
    },
    {
      "cell_type": "code",
      "metadata": {
        "id": "qNTAKz89LFGM"
      },
      "source": [
        "country_list = ['US','Italy','France','Spain','Chile','Argentina','Portugal','Australia','New Zealand','Germany','South Africa']\n",
        "sub_data1 = df_wine[df_wine['country'].isin(country_list)]"
      ],
      "execution_count": 18,
      "outputs": []
    },
    {
      "cell_type": "code",
      "metadata": {
        "colab": {
          "base_uri": "https://localhost:8080/",
          "height": 142
        },
        "id": "M8bbAnnyLlth",
        "outputId": "fd1386dd-51d2-42bd-e5a0-82420bd0917a"
      },
      "source": [
        "Bordeaux_style_redblend = sub_data1[sub_data1['variety'] == 'Bordeaux-style Red Blend']\n",
        "Bordeaux_style_redblend.describe().T"
      ],
      "execution_count": 19,
      "outputs": [
        {
          "output_type": "execute_result",
          "data": {
            "text/html": [
              "<div>\n",
              "<style scoped>\n",
              "    .dataframe tbody tr th:only-of-type {\n",
              "        vertical-align: middle;\n",
              "    }\n",
              "\n",
              "    .dataframe tbody tr th {\n",
              "        vertical-align: top;\n",
              "    }\n",
              "\n",
              "    .dataframe thead th {\n",
              "        text-align: right;\n",
              "    }\n",
              "</style>\n",
              "<table border=\"1\" class=\"dataframe\">\n",
              "  <thead>\n",
              "    <tr style=\"text-align: right;\">\n",
              "      <th></th>\n",
              "      <th>count</th>\n",
              "      <th>mean</th>\n",
              "      <th>std</th>\n",
              "      <th>min</th>\n",
              "      <th>25%</th>\n",
              "      <th>50%</th>\n",
              "      <th>75%</th>\n",
              "      <th>max</th>\n",
              "    </tr>\n",
              "  </thead>\n",
              "  <tbody>\n",
              "    <tr>\n",
              "      <th>Unnamed: 0</th>\n",
              "      <td>170.0</td>\n",
              "      <td>1532.141176</td>\n",
              "      <td>609.843915</td>\n",
              "      <td>67.0</td>\n",
              "      <td>1129.0</td>\n",
              "      <td>1595.5</td>\n",
              "      <td>1931.5</td>\n",
              "      <td>2585.0</td>\n",
              "    </tr>\n",
              "    <tr>\n",
              "      <th>points</th>\n",
              "      <td>170.0</td>\n",
              "      <td>88.894118</td>\n",
              "      <td>3.531845</td>\n",
              "      <td>83.0</td>\n",
              "      <td>87.0</td>\n",
              "      <td>88.0</td>\n",
              "      <td>91.0</td>\n",
              "      <td>98.0</td>\n",
              "    </tr>\n",
              "    <tr>\n",
              "      <th>price</th>\n",
              "      <td>143.0</td>\n",
              "      <td>87.720280</td>\n",
              "      <td>233.577306</td>\n",
              "      <td>9.0</td>\n",
              "      <td>18.0</td>\n",
              "      <td>30.0</td>\n",
              "      <td>53.5</td>\n",
              "      <td>1900.0</td>\n",
              "    </tr>\n",
              "  </tbody>\n",
              "</table>\n",
              "</div>"
            ],
            "text/plain": [
              "            count         mean         std   min     25%     50%     75%  \\\n",
              "Unnamed: 0  170.0  1532.141176  609.843915  67.0  1129.0  1595.5  1931.5   \n",
              "points      170.0    88.894118    3.531845  83.0    87.0    88.0    91.0   \n",
              "price       143.0    87.720280  233.577306   9.0    18.0    30.0    53.5   \n",
              "\n",
              "               max  \n",
              "Unnamed: 0  2585.0  \n",
              "points        98.0  \n",
              "price       1900.0  "
            ]
          },
          "metadata": {
            "tags": []
          },
          "execution_count": 19
        }
      ]
    },
    {
      "cell_type": "code",
      "metadata": {
        "id": "Vwp35znzLns6"
      },
      "source": [
        "varietylist = ['Pinot Noir','Cabernet Sauvignon','Chardonnay','Syrah','Red Blend','Bordeaux-style Red Blend','Sauvignon Blanc','Merlot']\n",
        "subdata = sub_data1[sub_data1['variety'].isin(varietylist)]"
      ],
      "execution_count": 20,
      "outputs": []
    },
    {
      "cell_type": "code",
      "metadata": {
        "colab": {
          "base_uri": "https://localhost:8080/",
          "height": 466
        },
        "id": "zGAPy8aoLq2G",
        "outputId": "8cc6ede5-637c-4f27-a6d4-fe06a3e47ad8"
      },
      "source": [
        "plt.figure(figsize=(15,5))\n",
        "plt.rc('xtick', labelsize=10) \n",
        "plt.rc('ytick', labelsize=10) \n",
        "sns.countplot(x=\"variety\", data=subdata,)\n",
        "plt.ylabel(\"province\",fontsize = 12)\n",
        "plt.xlabel(\"Review Count\", fontsize=12)\n",
        "plt.title(\"Count of Reviews by province in US\", fontsize=.2)\n",
        "plt.xticks(rotation=90)\n",
        "plt.show()"
      ],
      "execution_count": 26,
      "outputs": [
        {
          "output_type": "display_data",
          "data": {
            "image/png": "[encoded data removed]",
            "text/plain": [
              "<Figure size 1080x360 with 1 Axes>"
            ]
          },
          "metadata": {
            "tags": [],
            "needs_background": "light"
          }
        }
      ]
    },
    {
      "cell_type": "code",
      "metadata": {
        "id": "FMyL-0oLLsgj"
      },
      "source": [
        "from sklearn.feature_extraction.text import TfidfVectorizer\n",
        "\n",
        "tfidf = TfidfVectorizer(\n",
        "    min_df=5, max_features=200, strip_accents='unicode',lowercase =True,\n",
        "    analyzer='word', token_pattern=r'\\w+', use_idf=True, \n",
        "    smooth_idf=True, sublinear_tf=True, stop_words = 'english').fit(subdata[\"description\"])"
      ],
      "execution_count": 29,
      "outputs": []
    },
    {
      "cell_type": "code",
      "metadata": {
        "id": "vSYy8IkrPpc6",
        "colab": {
          "base_uri": "https://localhost:8080/",
          "height": 306
        },
        "outputId": "0cc47bfa-5185-4cc9-ba39-dcabf82f8e4d"
      },
      "source": [
        "#encoding the labels \n",
        "from sklearn.preprocessing import LabelEncoder\n",
        "\n",
        "label_encoder = LabelEncoder()\n",
        "label_encoder = label_encoder.fit(subdata['variety'])\n",
        "label_encoded_y = label_encoder.transform(subdata['variety'])\n",
        "subdata['encoded_winevariety'] = label_encoded_y\n",
        "subdata.head()"
      ],
      "execution_count": 30,
      "outputs": [
        {
          "output_type": "execute_result",
          "data": {
            "text/html": [
              "<div>\n",
              "<style scoped>\n",
              "    .dataframe tbody tr th:only-of-type {\n",
              "        vertical-align: middle;\n",
              "    }\n",
              "\n",
              "    .dataframe tbody tr th {\n",
              "        vertical-align: top;\n",
              "    }\n",
              "\n",
              "    .dataframe thead th {\n",
              "        text-align: right;\n",
              "    }\n",
              "</style>\n",
              "<table border=\"1\" class=\"dataframe\">\n",
              "  <thead>\n",
              "    <tr style=\"text-align: right;\">\n",
              "      <th></th>\n",
              "      <th>Unnamed: 0</th>\n",
              "      <th>country</th>\n",
              "      <th>description</th>\n",
              "      <th>designation</th>\n",
              "      <th>points</th>\n",
              "      <th>price</th>\n",
              "      <th>province</th>\n",
              "      <th>region_1</th>\n",
              "      <th>region_2</th>\n",
              "      <th>taster_name</th>\n",
              "      <th>taster_twitter_handle</th>\n",
              "      <th>title</th>\n",
              "      <th>variety</th>\n",
              "      <th>winery</th>\n",
              "      <th>encoded_winevariety</th>\n",
              "    </tr>\n",
              "  </thead>\n",
              "  <tbody>\n",
              "    <tr>\n",
              "      <th>4</th>\n",
              "      <td>4</td>\n",
              "      <td>US</td>\n",
              "      <td>Much like the regular bottling from 2012, this...</td>\n",
              "      <td>Vintner's Reserve Wild Child Block</td>\n",
              "      <td>87</td>\n",
              "      <td>65.0</td>\n",
              "      <td>Oregon</td>\n",
              "      <td>Willamette Valley</td>\n",
              "      <td>Willamette Valley</td>\n",
              "      <td>Paul Gregutt</td>\n",
              "      <td>@paulgwine</td>\n",
              "      <td>Sweet Cheeks 2012 Vintner's Reserve Wild Child...</td>\n",
              "      <td>Pinot Noir</td>\n",
              "      <td>Sweet Cheeks</td>\n",
              "      <td>4</td>\n",
              "    </tr>\n",
              "    <tr>\n",
              "      <th>10</th>\n",
              "      <td>10</td>\n",
              "      <td>US</td>\n",
              "      <td>Soft, supple plum envelopes an oaky structure ...</td>\n",
              "      <td>Mountain Cuvée</td>\n",
              "      <td>87</td>\n",
              "      <td>19.0</td>\n",
              "      <td>California</td>\n",
              "      <td>Napa Valley</td>\n",
              "      <td>Napa</td>\n",
              "      <td>Virginie Boone</td>\n",
              "      <td>@vboone</td>\n",
              "      <td>Kirkland Signature 2011 Mountain Cuvée Caberne...</td>\n",
              "      <td>Cabernet Sauvignon</td>\n",
              "      <td>Kirkland Signature</td>\n",
              "      <td>1</td>\n",
              "    </tr>\n",
              "    <tr>\n",
              "      <th>12</th>\n",
              "      <td>12</td>\n",
              "      <td>US</td>\n",
              "      <td>Slightly reduced, this wine offers a chalky, t...</td>\n",
              "      <td>NaN</td>\n",
              "      <td>87</td>\n",
              "      <td>34.0</td>\n",
              "      <td>California</td>\n",
              "      <td>Alexander Valley</td>\n",
              "      <td>Sonoma</td>\n",
              "      <td>Virginie Boone</td>\n",
              "      <td>@vboone</td>\n",
              "      <td>Louis M. Martini 2012 Cabernet Sauvignon (Alex...</td>\n",
              "      <td>Cabernet Sauvignon</td>\n",
              "      <td>Louis M. Martini</td>\n",
              "      <td>1</td>\n",
              "    </tr>\n",
              "    <tr>\n",
              "      <th>14</th>\n",
              "      <td>14</td>\n",
              "      <td>US</td>\n",
              "      <td>Building on 150 years and six generations of w...</td>\n",
              "      <td>NaN</td>\n",
              "      <td>87</td>\n",
              "      <td>12.0</td>\n",
              "      <td>California</td>\n",
              "      <td>Central Coast</td>\n",
              "      <td>Central Coast</td>\n",
              "      <td>Matt Kettmann</td>\n",
              "      <td>@mattkettmann</td>\n",
              "      <td>Mirassou 2012 Chardonnay (Central Coast)</td>\n",
              "      <td>Chardonnay</td>\n",
              "      <td>Mirassou</td>\n",
              "      <td>2</td>\n",
              "    </tr>\n",
              "    <tr>\n",
              "      <th>20</th>\n",
              "      <td>20</td>\n",
              "      <td>US</td>\n",
              "      <td>Ripe aromas of dark berries mingle with ample ...</td>\n",
              "      <td>Vin de Maison</td>\n",
              "      <td>87</td>\n",
              "      <td>23.0</td>\n",
              "      <td>Virginia</td>\n",
              "      <td>Virginia</td>\n",
              "      <td>NaN</td>\n",
              "      <td>Alexander Peartree</td>\n",
              "      <td>NaN</td>\n",
              "      <td>Quiévremont 2012 Vin de Maison Red (Virginia)</td>\n",
              "      <td>Red Blend</td>\n",
              "      <td>Quiévremont</td>\n",
              "      <td>5</td>\n",
              "    </tr>\n",
              "  </tbody>\n",
              "</table>\n",
              "</div>"
            ],
            "text/plain": [
              "    Unnamed: 0 country                                        description  \\\n",
              "4            4      US  Much like the regular bottling from 2012, this...   \n",
              "10          10      US  Soft, supple plum envelopes an oaky structure ...   \n",
              "12          12      US  Slightly reduced, this wine offers a chalky, t...   \n",
              "14          14      US  Building on 150 years and six generations of w...   \n",
              "20          20      US  Ripe aromas of dark berries mingle with ample ...   \n",
              "\n",
              "                           designation  points  price    province  \\\n",
              "4   Vintner's Reserve Wild Child Block      87   65.0      Oregon   \n",
              "10                      Mountain Cuvée      87   19.0  California   \n",
              "12                                 NaN      87   34.0  California   \n",
              "14                                 NaN      87   12.0  California   \n",
              "20                       Vin de Maison      87   23.0    Virginia   \n",
              "\n",
              "             region_1           region_2         taster_name  \\\n",
              "4   Willamette Valley  Willamette Valley        Paul Gregutt   \n",
              "10        Napa Valley               Napa      Virginie Boone   \n",
              "12   Alexander Valley             Sonoma      Virginie Boone   \n",
              "14      Central Coast      Central Coast       Matt Kettmann   \n",
              "20           Virginia                NaN  Alexander Peartree   \n",
              "\n",
              "   taster_twitter_handle                                              title  \\\n",
              "4            @paulgwine   Sweet Cheeks 2012 Vintner's Reserve Wild Child...   \n",
              "10               @vboone  Kirkland Signature 2011 Mountain Cuvée Caberne...   \n",
              "12               @vboone  Louis M. Martini 2012 Cabernet Sauvignon (Alex...   \n",
              "14         @mattkettmann           Mirassou 2012 Chardonnay (Central Coast)   \n",
              "20                   NaN      Quiévremont 2012 Vin de Maison Red (Virginia)   \n",
              "\n",
              "               variety              winery  encoded_winevariety  \n",
              "4           Pinot Noir        Sweet Cheeks                    4  \n",
              "10  Cabernet Sauvignon  Kirkland Signature                    1  \n",
              "12  Cabernet Sauvignon    Louis M. Martini                    1  \n",
              "14          Chardonnay            Mirassou                    2  \n",
              "20           Red Blend         Quiévremont                    5  "
            ]
          },
          "metadata": {
            "tags": []
          },
          "execution_count": 30
        }
      ]
    },
    {
      "cell_type": "code",
      "metadata": {
        "id": "g_IK55K9PslC"
      },
      "source": [
        "from sklearn.feature_extraction.text import TfidfVectorizer\n",
        "\n",
        "tfidf = TfidfVectorizer(\n",
        "    min_df=5, max_features=200, strip_accents='unicode',lowercase =True,\n",
        "    analyzer='word', token_pattern=r'\\w+', use_idf=True, \n",
        "    smooth_idf=True, sublinear_tf=True, stop_words = 'english').fit(subdata[\"description\"])"
      ],
      "execution_count": 31,
      "outputs": []
    },
    {
      "cell_type": "code",
      "metadata": {
        "id": "GLwo8KyrPv40"
      },
      "source": [
        "features = tfidf.get_feature_names()"
      ],
      "execution_count": 32,
      "outputs": []
    },
    {
      "cell_type": "code",
      "metadata": {
        "id": "sKfi6KRIPysd",
        "colab": {
          "base_uri": "https://localhost:8080/",
          "height": 544
        },
        "outputId": "e90fb0f8-1d7f-4a48-ba48-ea45ca8e59aa"
      },
      "source": [
        "idf_score = tfidf.idf_\n",
        "idf_sort = np.argsort(idf_score)[::-1]\n",
        "\n",
        "plt.figure()\n",
        "plt.xlabel('word')\n",
        "plt.title(\"TF-IDF score\")\n",
        "plt.bar(range(200), idf_score[idf_sort],\n",
        "       color=\"r\",align=\"center\")\n",
        "plt.xlim([-1, x.shape[1]])\n",
        "feature_score = []\n",
        "for order in idf_sort:\n",
        "    feature_score.append(features[order])"
      ],
      "execution_count": 69,
      "outputs": [
        {
          "output_type": "error",
          "ename": "NameError",
          "evalue": "ignored",
          "traceback": [
            "\u001b[0;31m---------------------------------------------------------------------------\u001b[0m",
            "\u001b[0;31mNameError\u001b[0m                                 Traceback (most recent call last)",
            "\u001b[0;32m<ipython-input-69-2445b2e96ecb>\u001b[0m in \u001b[0;36m<module>\u001b[0;34m()\u001b[0m\n\u001b[1;32m      7\u001b[0m plt.bar(range(200), idf_score[idf_sort],\n\u001b[1;32m      8\u001b[0m        color=\"r\",align=\"center\")\n\u001b[0;32m----> 9\u001b[0;31m \u001b[0mplt\u001b[0m\u001b[0;34m.\u001b[0m\u001b[0mxlim\u001b[0m\u001b[0;34m(\u001b[0m\u001b[0;34m[\u001b[0m\u001b[0;34m-\u001b[0m\u001b[0;36m1\u001b[0m\u001b[0;34m,\u001b[0m \u001b[0mx\u001b[0m\u001b[0;34m.\u001b[0m\u001b[0mshape\u001b[0m\u001b[0;34m[\u001b[0m\u001b[0;36m1\u001b[0m\u001b[0;34m]\u001b[0m\u001b[0;34m]\u001b[0m\u001b[0;34m)\u001b[0m\u001b[0;34m\u001b[0m\u001b[0;34m\u001b[0m\u001b[0m\n\u001b[0m\u001b[1;32m     10\u001b[0m \u001b[0mfeature_score\u001b[0m \u001b[0;34m=\u001b[0m \u001b[0;34m[\u001b[0m\u001b[0;34m]\u001b[0m\u001b[0;34m\u001b[0m\u001b[0;34m\u001b[0m\u001b[0m\n\u001b[1;32m     11\u001b[0m \u001b[0;32mfor\u001b[0m \u001b[0morder\u001b[0m \u001b[0;32min\u001b[0m \u001b[0midf_sort\u001b[0m\u001b[0;34m:\u001b[0m\u001b[0;34m\u001b[0m\u001b[0;34m\u001b[0m\u001b[0m\n",
            "\u001b[0;31mNameError\u001b[0m: name 'x' is not defined"
          ]
        },
        {
          "output_type": "display_data",
          "data": {
            "image/png": "[encoded data removed]",
            "text/plain": [
              "<Figure size 432x288 with 1 Axes>"
            ]
          },
          "metadata": {
            "tags": [],
            "needs_background": "light"
          }
        }
      ]
    },
    {
      "cell_type": "code",
      "metadata": {
        "id": "Z7SrWMVHP2Wp"
      },
      "source": [
        ""
      ],
      "execution_count": 35,
      "outputs": []
    },
    {
      "cell_type": "code",
      "metadata": {
        "id": "8fal1OH6RJGU"
      },
      "source": [
        "!pip install sklearn"
      ],
      "execution_count": null,
      "outputs": []
    },
    {
      "cell_type": "code",
      "metadata": {
        "id": "kEOPGhGdQytS"
      },
      "source": [
        "import sklearn\n",
        "from sklearn.model_selection import train_test_split"
      ],
      "execution_count": 36,
      "outputs": []
    },
    {
      "cell_type": "code",
      "metadata": {
        "id": "fvWp5h8IP_bQ"
      },
      "source": [
        "seed = 10\n",
        "test_size = 0.2\n",
        "y = subdata_2['encoded_winevariety']\n",
        "X = subdata_2.drop(['encoded_winevariety','variety'], axis=1)\n",
        "\n",
        "X_train, X_test, y_train, y_test = train_test_split(X, y, test_size=test_size, random_state=seed)\n",
        "import xgboost as xgb\n",
        "clf = xgb.XGBClassifier(max_depth=60, n_estimators=50, learning_rate=0.05)"
      ],
      "execution_count": 38,
      "outputs": []
    },
    {
      "cell_type": "code",
      "metadata": {
        "colab": {
          "base_uri": "https://localhost:8080/"
        },
        "id": "2qsG72r7Vl0P",
        "outputId": "608ad153-a19a-4540-ee99-1a02bab858ac"
      },
      "source": [
        "clf.fit(X_train, y_train)"
      ],
      "execution_count": 39,
      "outputs": [
        {
          "output_type": "execute_result",
          "data": {
            "text/plain": [
              "XGBClassifier(learning_rate=0.05, max_depth=60, n_estimators=50,\n",
              "              objective='multi:softprob')"
            ]
          },
          "metadata": {
            "tags": []
          },
          "execution_count": 39
        }
      ]
    },
    {
      "cell_type": "code",
      "metadata": {
        "id": "H7nP19cdWWTL"
      },
      "source": [
        "y_pred = clf.predict(X_test)\n",
        "def feat_imp(df, model, n_features):\n",
        "\n",
        "    d = dict(zip(df.columns, model.feature_importances_))\n",
        "    ss = sorted(d, key=d.get, reverse=True)\n",
        "    top_names = ss[0:n_features]\n",
        "    top_names_decode = [features[item] for item in top_names]\n",
        "    #print (top_names_decode)\n",
        "\n",
        "    #plt.figure(figsize=(15,15))\n",
        "    #plt.title(\"Feature importances\")\n",
        "    #plt.bar(range(n_features), [d[i] for i in top_names], color=\"r\", align=\"center\")\n",
        "    #plt.xlim(-1, n_features)\n",
        "    #plt.xticks(range(n_features), top_names_decode, rotation='vertical')\n",
        "\n",
        "feat_imp(X_train, clf, 50)"
      ],
      "execution_count": 43,
      "outputs": []
    },
    {
      "cell_type": "code",
      "metadata": {
        "colab": {
          "base_uri": "https://localhost:8080/"
        },
        "id": "JkD-hbSAWcYf",
        "outputId": "9660d32b-c13c-41fb-a5e1-8cbf218f3297"
      },
      "source": [
        "# Medindo a Acuraria do modelo\n",
        "from sklearn.metrics import accuracy_score\n",
        "\n",
        "accuracy = accuracy_score(y_pred, y_test)\n",
        "print(\"Accuracy: %.2f%%\" % (accuracy * 100.0))"
      ],
      "execution_count": 44,
      "outputs": [
        {
          "output_type": "stream",
          "text": [
            "Accuracy: 60.08%\n"
          ],
          "name": "stdout"
        }
      ]
    },
    {
      "cell_type": "code",
      "metadata": {
        "colab": {
          "base_uri": "https://localhost:8080/"
        },
        "id": "sggY09pDWxuw",
        "outputId": "33a53cd7-3071-4c6b-d90c-9ba81c9b4d74"
      },
      "source": [
        "### Regressao Logistica  ###\n",
        "from sklearn.linear_model import LogisticRegression\n",
        "from sklearn.metrics import accuracy_score\n",
        "C = [0.1,1,5,10,100,1000,10000]\n",
        "accuracy = []\n",
        "for c in C:\n",
        "    model = LogisticRegression(C=c)\n",
        "    model.fit(X_train,y_train)\n",
        "    y_pred = model.predict(X_test)\n",
        "    # Acuracia\n",
        "    accuracy.append(accuracy_score(y_pred, y_test))\n",
        "    \n",
        "    print(\"Accuracy: %.2f%%\" % (accuracy[-1] * 100.0))"
      ],
      "execution_count": 45,
      "outputs": [
        {
          "output_type": "stream",
          "text": [
            "Accuracy: 60.50%\n",
            "Accuracy: 65.97%\n",
            "Accuracy: 65.13%\n"
          ],
          "name": "stdout"
        },
        {
          "output_type": "stream",
          "text": [
            "/usr/local/lib/python3.7/dist-packages/sklearn/linear_model/_logistic.py:765: ConvergenceWarning: lbfgs failed to converge (status=1):\n",
            "STOP: TOTAL NO. of ITERATIONS REACHED LIMIT.\n",
            "\n",
            "Increase the number of iterations (max_iter) or scale the data as shown in:\n",
            "    https://scikit-learn.org/stable/modules/preprocessing.html\n",
            "Please also refer to the documentation for alternative solver options:\n",
            "    https://scikit-learn.org/stable/modules/linear_model.html#logistic-regression\n",
            "  extra_warning_msg=_LOGISTIC_SOLVER_CONVERGENCE_MSG)\n"
          ],
          "name": "stderr"
        },
        {
          "output_type": "stream",
          "text": [
            "Accuracy: 64.71%\n"
          ],
          "name": "stdout"
        },
        {
          "output_type": "stream",
          "text": [
            "/usr/local/lib/python3.7/dist-packages/sklearn/linear_model/_logistic.py:765: ConvergenceWarning: lbfgs failed to converge (status=1):\n",
            "STOP: TOTAL NO. of ITERATIONS REACHED LIMIT.\n",
            "\n",
            "Increase the number of iterations (max_iter) or scale the data as shown in:\n",
            "    https://scikit-learn.org/stable/modules/preprocessing.html\n",
            "Please also refer to the documentation for alternative solver options:\n",
            "    https://scikit-learn.org/stable/modules/linear_model.html#logistic-regression\n",
            "  extra_warning_msg=_LOGISTIC_SOLVER_CONVERGENCE_MSG)\n"
          ],
          "name": "stderr"
        },
        {
          "output_type": "stream",
          "text": [
            "Accuracy: 60.08%\n"
          ],
          "name": "stdout"
        },
        {
          "output_type": "stream",
          "text": [
            "/usr/local/lib/python3.7/dist-packages/sklearn/linear_model/_logistic.py:765: ConvergenceWarning: lbfgs failed to converge (status=1):\n",
            "STOP: TOTAL NO. of ITERATIONS REACHED LIMIT.\n",
            "\n",
            "Increase the number of iterations (max_iter) or scale the data as shown in:\n",
            "    https://scikit-learn.org/stable/modules/preprocessing.html\n",
            "Please also refer to the documentation for alternative solver options:\n",
            "    https://scikit-learn.org/stable/modules/linear_model.html#logistic-regression\n",
            "  extra_warning_msg=_LOGISTIC_SOLVER_CONVERGENCE_MSG)\n"
          ],
          "name": "stderr"
        },
        {
          "output_type": "stream",
          "text": [
            "Accuracy: 59.66%\n",
            "Accuracy: 59.66%\n"
          ],
          "name": "stdout"
        },
        {
          "output_type": "stream",
          "text": [
            "/usr/local/lib/python3.7/dist-packages/sklearn/linear_model/_logistic.py:765: ConvergenceWarning: lbfgs failed to converge (status=1):\n",
            "STOP: TOTAL NO. of ITERATIONS REACHED LIMIT.\n",
            "\n",
            "Increase the number of iterations (max_iter) or scale the data as shown in:\n",
            "    https://scikit-learn.org/stable/modules/preprocessing.html\n",
            "Please also refer to the documentation for alternative solver options:\n",
            "    https://scikit-learn.org/stable/modules/linear_model.html#logistic-regression\n",
            "  extra_warning_msg=_LOGISTIC_SOLVER_CONVERGENCE_MSG)\n"
          ],
          "name": "stderr"
        }
      ]
    },
    {
      "cell_type": "code",
      "metadata": {
        "colab": {
          "base_uri": "https://localhost:8080/",
          "height": 347
        },
        "id": "qNP9vp34W5Hb",
        "outputId": "e4bd5227-8037-4385-b559-4291ed874faa"
      },
      "source": [
        "plt.figure()\n",
        "plt.xlabel('Regularizers')\n",
        "plt.title(\"Logistic Regression Accuracy\")\n",
        "plt.plot(accuracy)\n",
        "plt.bar(range(7), accuracy, color=\"green\", align=\"center\")\n",
        "plt.xticks(range(7), C)\n",
        "plt.ylim([0.72,0.75])\n"
      ],
      "execution_count": 67,
      "outputs": [
        {
          "output_type": "execute_result",
          "data": {
            "text/plain": [
              "(0.72, 0.75)"
            ]
          },
          "metadata": {
            "tags": []
          },
          "execution_count": 67
        },
        {
          "output_type": "display_data",
          "data": {
            "image/png": "[encoded data removed]",
            "text/plain": [
              "<Figure size 432x288 with 1 Axes>"
            ]
          },
          "metadata": {
            "tags": [],
            "needs_background": "light"
          }
        }
      ]
    },
    {
      "cell_type": "code",
      "metadata": {
        "id": "_1GClsBhXGya"
      },
      "source": [
        "from sklearn.ensemble import RandomForestClassifier\n",
        "model2 = RandomForestClassifier(max_depth=60, random_state=0,n_estimators=50)"
      ],
      "execution_count": 59,
      "outputs": []
    },
    {
      "cell_type": "code",
      "metadata": {
        "colab": {
          "base_uri": "https://localhost:8080/"
        },
        "id": "uhHgYSOuXM3l",
        "outputId": "126a852c-6b27-431e-d084-904740e17421"
      },
      "source": [
        "model2.fit(X_train,y_train)"
      ],
      "execution_count": 60,
      "outputs": [
        {
          "output_type": "execute_result",
          "data": {
            "text/plain": [
              "RandomForestClassifier(max_depth=60, n_estimators=50, random_state=0)"
            ]
          },
          "metadata": {
            "tags": []
          },
          "execution_count": 60
        }
      ]
    },
    {
      "cell_type": "code",
      "metadata": {
        "colab": {
          "base_uri": "https://localhost:8080/"
        },
        "id": "Pd1MksXUXPIu",
        "outputId": "5d82df32-239e-4cba-b3b4-5a30f2e5d28a"
      },
      "source": [
        "y_pred = model2.predict(X_test)\n",
        "# Medindo a Acuracia\n",
        "from sklearn.metrics import accuracy_score\n",
        "\n",
        "accuracy = accuracy_score(y_pred, y_test)\n",
        "print(\"Accuracy: %.2f%%\" % (accuracy * 100.0))"
      ],
      "execution_count": 61,
      "outputs": [
        {
          "output_type": "stream",
          "text": [
            "Accuracy: 61.76%\n"
          ],
          "name": "stdout"
        }
      ]
    },
    {
      "cell_type": "code",
      "metadata": {
        "colab": {
          "base_uri": "https://localhost:8080/",
          "height": 1000
        },
        "id": "e6eEHMIaXVqE",
        "outputId": "49357b46-5ae5-4aab-fdbc-32e926c72e25"
      },
      "source": [
        "importances = model2.feature_importances_\n",
        "std = np.std([tree.feature_importances_ for tree in model2.estimators_],\n",
        "             axis=0)\n",
        "indices = np.argsort(importances)[::-1]\n",
        "\n",
        "print(\"Feature ranking:\")\n",
        "\n",
        "for f in range(X.shape[1]):\n",
        "    print(\"%d. feature %d (%f)\" % (f + 1, indices[f], importances[indices[f]]))\n",
        "\n",
        "plt.figure()\n",
        "plt.figure(figsize=(20,12))\n",
        "plt.title(\"Feature importances\")\n",
        "plt.bar(range(X.shape[1]), importances[indices],\n",
        "       color=\"green\", yerr=std[indices], align=\"center\")\n",
        "plt.xticks(range(50), feature_importance, rotation='vertical')\n",
        "plt.xlim([-1, 50])\n",
        "#plt.xlim([-1, X.shape[1]])\n",
        "plt.show()"
      ],
      "execution_count": 66,
      "outputs": [
        {
          "output_type": "stream",
          "text": [
            "Feature ranking:\n",
            "1. feature 8 (0.034848)\n",
            "2. feature 195 (0.033989)\n",
            "3. feature 23 (0.031206)\n",
            "4. feature 141 (0.027532)\n",
            "5. feature 177 (0.025152)\n",
            "6. feature 29 (0.023608)\n",
            "7. feature 35 (0.021734)\n",
            "8. feature 78 (0.020857)\n",
            "9. feature 33 (0.020845)\n",
            "10. feature 174 (0.017862)\n",
            "11. feature 81 (0.016298)\n",
            "12. feature 9 (0.015919)\n",
            "13. feature 20 (0.014270)\n",
            "14. feature 154 (0.013862)\n",
            "15. feature 115 (0.013623)\n",
            "16. feature 155 (0.013072)\n",
            "17. feature 103 (0.013058)\n",
            "18. feature 30 (0.011605)\n",
            "19. feature 74 (0.011539)\n",
            "20. feature 134 (0.011358)\n",
            "21. feature 128 (0.011350)\n",
            "22. feature 3 (0.011328)\n",
            "23. feature 136 (0.010522)\n",
            "24. feature 87 (0.010085)\n",
            "25. feature 15 (0.010078)\n",
            "26. feature 38 (0.009827)\n",
            "27. feature 62 (0.009275)\n",
            "28. feature 151 (0.008771)\n",
            "29. feature 22 (0.008576)\n",
            "30. feature 124 (0.008560)\n",
            "31. feature 36 (0.008517)\n",
            "32. feature 148 (0.008334)\n",
            "33. feature 140 (0.007792)\n",
            "34. feature 135 (0.007770)\n",
            "35. feature 80 (0.007290)\n",
            "36. feature 180 (0.007224)\n",
            "37. feature 197 (0.007086)\n",
            "38. feature 143 (0.007064)\n",
            "39. feature 137 (0.007057)\n",
            "40. feature 127 (0.006797)\n",
            "41. feature 82 (0.006616)\n",
            "42. feature 165 (0.006548)\n",
            "43. feature 188 (0.006408)\n",
            "44. feature 55 (0.006235)\n",
            "45. feature 42 (0.006096)\n",
            "46. feature 149 (0.006073)\n",
            "47. feature 57 (0.005974)\n",
            "48. feature 163 (0.005911)\n",
            "49. feature 76 (0.005783)\n",
            "50. feature 170 (0.005747)\n",
            "51. feature 105 (0.005609)\n",
            "52. feature 146 (0.005471)\n",
            "53. feature 125 (0.005387)\n",
            "54. feature 64 (0.005380)\n",
            "55. feature 34 (0.005361)\n",
            "56. feature 89 (0.005234)\n",
            "57. feature 25 (0.004890)\n",
            "58. feature 191 (0.004885)\n",
            "59. feature 86 (0.004878)\n",
            "60. feature 51 (0.004876)\n",
            "61. feature 185 (0.004872)\n",
            "62. feature 53 (0.004863)\n",
            "63. feature 158 (0.004713)\n",
            "64. feature 183 (0.004551)\n",
            "65. feature 178 (0.004452)\n",
            "66. feature 168 (0.004343)\n",
            "67. feature 60 (0.004317)\n",
            "68. feature 90 (0.004266)\n",
            "69. feature 7 (0.004214)\n",
            "70. feature 41 (0.004170)\n",
            "71. feature 173 (0.004159)\n",
            "72. feature 39 (0.004147)\n",
            "73. feature 61 (0.004016)\n",
            "74. feature 113 (0.004008)\n",
            "75. feature 98 (0.004005)\n",
            "76. feature 52 (0.003972)\n",
            "77. feature 18 (0.003951)\n",
            "78. feature 21 (0.003941)\n",
            "79. feature 24 (0.003938)\n",
            "80. feature 176 (0.003851)\n",
            "81. feature 13 (0.003757)\n",
            "82. feature 131 (0.003690)\n",
            "83. feature 27 (0.003671)\n",
            "84. feature 164 (0.003649)\n",
            "85. feature 122 (0.003603)\n",
            "86. feature 160 (0.003524)\n",
            "87. feature 71 (0.003441)\n",
            "88. feature 107 (0.003435)\n",
            "89. feature 14 (0.003264)\n",
            "90. feature 77 (0.003253)\n",
            "91. feature 0 (0.003175)\n",
            "92. feature 109 (0.003145)\n",
            "93. feature 67 (0.003107)\n",
            "94. feature 83 (0.003098)\n",
            "95. feature 92 (0.002939)\n",
            "96. feature 186 (0.002907)\n",
            "97. feature 172 (0.002905)\n",
            "98. feature 28 (0.002829)\n",
            "99. feature 56 (0.002827)\n",
            "100. feature 156 (0.002764)\n",
            "101. feature 32 (0.002762)\n",
            "102. feature 161 (0.002745)\n",
            "103. feature 194 (0.002631)\n",
            "104. feature 4 (0.002620)\n",
            "105. feature 91 (0.002534)\n",
            "106. feature 162 (0.002515)\n",
            "107. feature 179 (0.002490)\n",
            "108. feature 192 (0.002452)\n",
            "109. feature 167 (0.002445)\n",
            "110. feature 198 (0.002315)\n",
            "111. feature 5 (0.002282)\n",
            "112. feature 118 (0.002278)\n",
            "113. feature 48 (0.002272)\n",
            "114. feature 63 (0.002262)\n",
            "115. feature 68 (0.002246)\n",
            "116. feature 120 (0.002235)\n",
            "117. feature 133 (0.002230)\n",
            "118. feature 19 (0.002227)\n",
            "119. feature 31 (0.002222)\n",
            "120. feature 157 (0.002181)\n",
            "121. feature 104 (0.002168)\n",
            "122. feature 79 (0.002166)\n",
            "123. feature 114 (0.002143)\n",
            "124. feature 159 (0.002138)\n",
            "125. feature 49 (0.002123)\n",
            "126. feature 112 (0.002099)\n",
            "127. feature 97 (0.002078)\n",
            "128. feature 121 (0.002075)\n",
            "129. feature 111 (0.002070)\n",
            "130. feature 70 (0.002067)\n",
            "131. feature 189 (0.001982)\n",
            "132. feature 147 (0.001963)\n",
            "133. feature 190 (0.001957)\n",
            "134. feature 99 (0.001952)\n",
            "135. feature 44 (0.001952)\n",
            "136. feature 12 (0.001928)\n",
            "137. feature 16 (0.001926)\n",
            "138. feature 59 (0.001918)\n",
            "139. feature 126 (0.001909)\n",
            "140. feature 184 (0.001899)\n",
            "141. feature 138 (0.001886)\n",
            "142. feature 142 (0.001811)\n",
            "143. feature 66 (0.001766)\n",
            "144. feature 196 (0.001764)\n",
            "145. feature 129 (0.001733)\n",
            "146. feature 116 (0.001727)\n",
            "147. feature 182 (0.001694)\n",
            "148. feature 46 (0.001688)\n",
            "149. feature 2 (0.001662)\n",
            "150. feature 175 (0.001658)\n",
            "151. feature 88 (0.001657)\n",
            "152. feature 166 (0.001656)\n",
            "153. feature 130 (0.001647)\n",
            "154. feature 110 (0.001633)\n",
            "155. feature 40 (0.001582)\n",
            "156. feature 145 (0.001576)\n",
            "157. feature 37 (0.001555)\n",
            "158. feature 139 (0.001553)\n",
            "159. feature 108 (0.001542)\n",
            "160. feature 58 (0.001540)\n",
            "161. feature 6 (0.001528)\n",
            "162. feature 93 (0.001508)\n",
            "163. feature 101 (0.001499)\n",
            "164. feature 10 (0.001493)\n",
            "165. feature 153 (0.001483)\n",
            "166. feature 169 (0.001478)\n",
            "167. feature 102 (0.001464)\n",
            "168. feature 65 (0.001451)\n",
            "169. feature 72 (0.001449)\n",
            "170. feature 106 (0.001443)\n",
            "171. feature 123 (0.001414)\n",
            "172. feature 17 (0.001399)\n",
            "173. feature 199 (0.001389)\n",
            "174. feature 193 (0.001379)\n",
            "175. feature 26 (0.001365)\n",
            "176. feature 171 (0.001360)\n",
            "177. feature 152 (0.001323)\n",
            "178. feature 117 (0.001322)\n",
            "179. feature 187 (0.001308)\n",
            "180. feature 84 (0.001284)\n",
            "181. feature 1 (0.001282)\n",
            "182. feature 50 (0.001256)\n",
            "183. feature 132 (0.001256)\n",
            "184. feature 181 (0.001244)\n",
            "185. feature 119 (0.001234)\n",
            "186. feature 95 (0.001211)\n",
            "187. feature 11 (0.001192)\n",
            "188. feature 94 (0.001187)\n",
            "189. feature 73 (0.001158)\n",
            "190. feature 96 (0.001146)\n",
            "191. feature 54 (0.001122)\n",
            "192. feature 144 (0.001101)\n",
            "193. feature 75 (0.000993)\n",
            "194. feature 45 (0.000933)\n",
            "195. feature 69 (0.000926)\n",
            "196. feature 47 (0.000857)\n",
            "197. feature 43 (0.000824)\n",
            "198. feature 85 (0.000791)\n",
            "199. feature 100 (0.000778)\n",
            "200. feature 150 (0.000753)\n"
          ],
          "name": "stdout"
        },
        {
          "output_type": "display_data",
          "data": {
            "text/plain": [
              "<Figure size 432x288 with 0 Axes>"
            ]
          },
          "metadata": {
            "tags": []
          }
        },
        {
          "output_type": "display_data",
          "data": {
            "image/png": "[encoded data removed]",
            "text/plain": [
              "<Figure size 1440x864 with 1 Axes>"
            ]
          },
          "metadata": {
            "tags": [],
            "needs_background": "light"
          }
        }
      ]
    },
    {
      "cell_type": "code",
      "metadata": {
        "colab": {
          "base_uri": "https://localhost:8080/"
        },
        "id": "qSKDcx24XeAp",
        "outputId": "12bdab96-ef29-403e-c7c3-be08c7bc52c2"
      },
      "source": [
        "feature_importance = []\n",
        "for item in indices:\n",
        "    feature_importance.append(features[item])\n",
        "    \n",
        "print (feature_importance)"
      ],
      "execution_count": 52,
      "outputs": [
        {
          "output_type": "stream",
          "text": [
            "['apple', 'wine', 'blend', 'pinot', 'tannins', 'cabernet', 'cherry', 'flavors', 'chardonnay', 'syrah', 'fruit', 'aromas', 'black', 's', 'merlot', 'sauvignon', 'lemon', 'cassis', 'finish', 'palate', 'oak', 'acidity', 'pear', 'grapefruit', 'berry', 'citrus', 'drink', 'ripe', 'blackberry', 'noir', 'chocolate', 'red', 'pineapple', 'peach', 'fresh', 'texture', 'wood', 'plum', 'pepper', 'notes', 'fruits', 'spice', 'vanilla', 'currant', 'cola', 'rich', 'dark', 'soft', 'firm', 'structure', 'light', 'raspberry', 'nose', 'dry', 'cherries', 'green', 'bodied', 'vineyard', 'good', 'cranberry', 'tobacco', 'crisp', 'shows', 'toast', 'tart', 'strawberry', 'dense', 'herb', 'alongside', 'coffee', 'sweet', 'clean', 'dried', 'meat', 'juicy', 'creamy', 'bit', 'blackberries', 'blueberry', 'tannic', 'balanced', 'offers', 'bottling', 'solid', 'new', 'slightly', 'feel', 'like', 'barrel', 'flavor', '100', 'little', 'earthy', 'fruity', 'herbs', 'touch', 'style', 'bright', 'currants', 'savory', 'character', 'smoky', 'white', 'age', 'herbal', 'smooth', 'tastes', 'vintage', 'spicy', 'years', 'aging', 'mix', 'concentrated', 'drinking', 'easy', 'mouth', 'orange', 'bitter', 'cedar', 'showing', 'licorice', 'franc', 'medium', 'silky', 'cool', 'make', 'jammy', 'mouthfeel', 'long', 'estate', 'varietal', 'ready', 'verdot', 'just', 'come', 'balance', 'best', 'delivers', 'note', 'toasty', 'perfumed', 'plenty', 'earth', 'winery', 'oaky', 'mineral', 'time', 'complex', '2018', 't', 'great', 'spices', 'offering', 'lively', 'clove', 'quite', 'cinnamon', 'petit', 'lime', 'delicious', 'alcohol', 'high', 'lead', 'attractive', 'round', 'strong', 'leather', 'dusty', 'feels', 'lightly', 'nice', 'big', 'young', 'weight', 'body', 'structured', 'roasted', 'minerality', 'valley', 'generous', '2017', 'core', 'opens', 'tight', 'mocha', 'hints', 'baked', 'hint', 'fine', 'intense', 'crushed', 'powerful', 'finishes', 'comes', 'elegant', 'complexity', 'color', 'gives', 'layers', 'richness']\n"
          ],
          "name": "stdout"
        }
      ]
    },
    {
      "cell_type": "code",
      "metadata": {
        "colab": {
          "base_uri": "https://localhost:8080/",
          "height": 802
        },
        "id": "2-mBJGpJXoZ8",
        "outputId": "02cd6a10-0be6-4e05-d3b4-178418f11110"
      },
      "source": [
        "# Random Forest\n",
        "Depth = [1,2,5,10,15,20,30,40,50,60,70,80,90]\n",
        "accuracy = []\n",
        "for c in Depth:\n",
        "    model2 = RandomForestClassifier(max_depth=c, random_state=0,n_estimators=1)\n",
        "    model2.fit(X_train,y_train)\n",
        "    y_pred = model2.predict(X_test)\n",
        "    #Measuring accuracy\n",
        "    accuracy.append(accuracy_score(y_pred, y_test))\n",
        "    print(\"Accuracy: %.2f%%\" % (accuracy[-1] * 100.0))\n",
        "    \n",
        "plt.figure()\n",
        "plt.figure(figsize=(12,8))\n",
        "plt.xlabel('Tree Depth')\n",
        "plt.title(\"Random Forest Accuracy #Subtree=1\")\n",
        "plt.plot(Depth,accuracy)\n",
        "plt.ylim([0.15,0.8])"
      ],
      "execution_count": 54,
      "outputs": [
        {
          "output_type": "stream",
          "text": [
            "Accuracy: 18.49%\n",
            "Accuracy: 23.95%\n",
            "Accuracy: 41.18%\n",
            "Accuracy: 41.60%\n",
            "Accuracy: 44.54%\n",
            "Accuracy: 46.64%\n",
            "Accuracy: 37.39%\n",
            "Accuracy: 44.54%\n",
            "Accuracy: 42.02%\n",
            "Accuracy: 42.02%\n",
            "Accuracy: 42.02%\n",
            "Accuracy: 42.02%\n",
            "Accuracy: 42.02%\n"
          ],
          "name": "stdout"
        },
        {
          "output_type": "execute_result",
          "data": {
            "text/plain": [
              "(0.15, 0.8)"
            ]
          },
          "metadata": {
            "tags": []
          },
          "execution_count": 54
        },
        {
          "output_type": "display_data",
          "data": {
            "text/plain": [
              "<Figure size 432x288 with 0 Axes>"
            ]
          },
          "metadata": {
            "tags": []
          }
        },
        {
          "output_type": "display_data",
          "data": {
            "image/png": "[encoded data removed]",
            "text/plain": [
              "<Figure size 864x576 with 1 Axes>"
            ]
          },
          "metadata": {
            "tags": [],
            "needs_background": "light"
          }
        }
      ]
    },
    {
      "cell_type": "code",
      "metadata": {
        "id": "5F_naDVYXqtQ"
      },
      "source": [
        ""
      ],
      "execution_count": null,
      "outputs": []
    }
  ]
}